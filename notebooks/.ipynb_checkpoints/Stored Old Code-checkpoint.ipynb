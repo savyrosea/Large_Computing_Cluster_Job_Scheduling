{
 "cells": [
  {
   "cell_type": "code",
   "execution_count": null,
   "metadata": {},
   "outputs": [],
   "source": [
    "for index, row in accre_df.NODE1.iteritems():\n",
    "    if accre_df['NODE4'][index] == accre_df['NODE4'][index]:\n",
    "        node1 = accre_df['NODE1'][index] + ',' + str(accre_df['NODE2'][index]) + ',' + str(accre_df['NODE3'][index]) + ',' + str(accre_df['NODE4'][index])\n",
    "    elif accre_df['NODE3'][index] == accre_df['NODE3'][index]:\n",
    "        node1 = accre_df['NODE1'][index] + ',' + str(accre_df['NODE2'][index]) + ',' + str(accre_df['NODE3'][index])\n",
    "    elif accre_df['NODE2'][index] == accre_df['NODE2'][index]:\n",
    "        node1 = accre_df['NODE1'][index] + ',' + str(accre_df['NODE2'][index])\n",
    "    else:\n",
    "        node1 = accre_df['NODE1'][index]\n",
    "    accre_df['NODE1'][index] = node1"
   ]
  },
  {
   "cell_type": "code",
   "execution_count": null,
   "metadata": {},
   "outputs": [],
   "source": [
    "#This fixes formatting for when NODES = 2, press 'esc'-'o' to hide pink warning\n",
    "for index, row in accre_df.NODE1.iteritems():\n",
    "    if accre_df.NODES[index] == 2:\n",
    "        broken_node1 = row.split('[')\n",
    "\n",
    "        if len(broken_node1[1]) < 5:\n",
    "            accre_df['NODE1'][index] = broken_node1[0] + broken_node1[1]\n",
    "            accre_df['NODE2'][index] = broken_node1[0] + accre_df['NODE2'][index][:-1]\n",
    "            \n",
    "        else:\n",
    "            broken_node1[1] = broken_node1[1][:-1]\n",
    "            two_num_split = broken_node1[1].split('-')\n",
    "            accre_df['NODE1'][index] = broken_node1[0] + two_num_split[0]\n",
    "            accre_df['NODE2'][index] = broken_node1[0] + two_num_split[1]    "
   ]
  },
  {
   "cell_type": "code",
   "execution_count": null,
   "metadata": {},
   "outputs": [],
   "source": [
    "#This fixes formatting for when NODES = 3, press 'esc'-'o' to hide pink warning\n",
    "for index, row in accre_df.NODE1.iteritems():          \n",
    "    if accre_df.NODES[index] == 3:\n",
    "        \n",
    "        broken_node1 = row.split('[')\n",
    "\n",
    "        if accre_df['NODE3'][index] == accre_df['NODE3'][index]:\n",
    "            accre_df['NODE1'][index] = broken_node1[0] + broken_node1[1]\n",
    "            accre_df['NODE2'][index] = broken_node1[0] + accre_df['NODE2'][index]\n",
    "            accre_df['NODE3'][index] = broken_node1[0] + accre_df['NODE3'][index][:-1]\n",
    "                                                             \n",
    "        elif accre_df['NODE2'][index] != accre_df['NODE2'][index]:\n",
    "            broken_node1[1] = broken_node1[1][:-1]\n",
    "            two_num_split = broken_node1[1].split('-')\n",
    "            accre_df['NODE1'][index] = broken_node1[0] + two_num_split[0]\n",
    "            accre_df['NODE2'][index] = broken_node1[0] + str(int(two_num_split[0]) + 1)\n",
    "            accre_df['NODE3'][index] = broken_node1[0] + two_num_split[1]\n",
    "            \n",
    "        elif len(broken_node1[1]) < 5:\n",
    "            two_num_split = accre_df['NODE2'][index].split('-')\n",
    "            accre_df['NODE1'][index] = broken_node1[0] + broken_node1[1]\n",
    "            accre_df['NODE2'][index] = broken_node1[0] + two_num_split[0]\n",
    "            accre_df['NODE3'][index] = broken_node1[0] + two_num_split[1][:-1]\n",
    "            \n",
    "        else:\n",
    "            two_num_split = broken_node1[1].split('-')\n",
    "            accre_df['NODE1'][index] = broken_node1[0] + two_num_split[0]\n",
    "            accre_df['NODE3'][index] = broken_node1[0] + accre_df['NODE2'][index][:-1]\n",
    "            accre_df['NODE2'][index] = broken_node1[0] + two_num_split[1]"
   ]
  },
  {
   "cell_type": "code",
   "execution_count": null,
   "metadata": {},
   "outputs": [],
   "source": []
  }
 ],
 "metadata": {
  "kernelspec": {
   "display_name": "Python 3",
   "language": "python",
   "name": "python3"
  },
  "language_info": {
   "codemirror_mode": {
    "name": "ipython",
    "version": 3
   },
   "file_extension": ".py",
   "mimetype": "text/x-python",
   "name": "python",
   "nbconvert_exporter": "python",
   "pygments_lexer": "ipython3",
   "version": "3.7.6"
  }
 },
 "nbformat": 4,
 "nbformat_minor": 4
}

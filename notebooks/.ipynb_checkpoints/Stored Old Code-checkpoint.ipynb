{
 "cells": [
  {
   "cell_type": "code",
   "execution_count": null,
   "metadata": {},
   "outputs": [],
   "source": [
    "for index, row in accre_df.NODE1.iteritems():\n",
    "    if accre_df['NODE4'][index] == accre_df['NODE4'][index]:\n",
    "        node1 = accre_df['NODE1'][index] + ',' + str(accre_df['NODE2'][index]) + ',' + str(accre_df['NODE3'][index]) + ',' + str(accre_df['NODE4'][index])\n",
    "    elif accre_df['NODE3'][index] == accre_df['NODE3'][index]:\n",
    "        node1 = accre_df['NODE1'][index] + ',' + str(accre_df['NODE2'][index]) + ',' + str(accre_df['NODE3'][index])\n",
    "    elif accre_df['NODE2'][index] == accre_df['NODE2'][index]:\n",
    "        node1 = accre_df['NODE1'][index] + ',' + str(accre_df['NODE2'][index])\n",
    "    else:\n",
    "        node1 = accre_df['NODE1'][index]\n",
    "    accre_df['NODE1'][index] = node1"
   ]
  },
  {
   "cell_type": "code",
   "execution_count": null,
   "metadata": {},
   "outputs": [],
   "source": [
    "col_names= ['JOBID', 'ACCOUNT', 'USER', 'REQMEM', 'USEDMEM', 'REQTIME', 'USEDTIME',\n",
    "       'NODES', 'CPUS', 'PARTITION', 'EXITCODE', 'STATE', 'NODE1','NODE2','NODE3','NODE4']\n",
    "\n",
    "accre_df = pd.read_csv('../data/accre-jobs-2020.csv', names=col_names) \n",
    "accre_df = accre_df.iloc[1:]"
   ]
  },
  {
   "cell_type": "code",
   "execution_count": null,
   "metadata": {},
   "outputs": [],
   "source": [
    "#Convertine time to seconds\n",
    "\n",
    "for index, row in cms_df.USEDTIME.iteritems():\n",
    "    total_seconds = 0\n",
    "    chopped_row = row.split(\":\")\n",
    "    minutes = int(chopped_row[1])\n",
    "    seconds = int(chopped_row [2])\n",
    "    \n",
    "    if len(chopped_row[0]) > 2:\n",
    "        days_hours = chopped_row[0].split('-')\n",
    "        days = int(days_hours[0])\n",
    "        hours = int(days_hours[1])\n",
    "    else:\n",
    "        day = 0\n",
    "        hours = int(chopped_row[0])\n",
    "    total_time = (days*86400) + (hours*3600) + (minutes*60) + (seconds)\n",
    "    cms_df['USEDTIME'][index] = total_time\n"
   ]
  },
  {
   "cell_type": "code",
   "execution_count": null,
   "metadata": {},
   "outputs": [],
   "source": [
    "#This fixes formatting for when NODES = 2, press 'esc'-'o' to hide pink warning\n",
    "for index, row in accre_df.NODE1.iteritems():\n",
    "    if accre_df.NODES[index] == 2:\n",
    "        broken_node1 = row.split('[')\n",
    "\n",
    "        if len(broken_node1[1]) < 5:\n",
    "            accre_df['NODE1'][index] = broken_node1[0] + broken_node1[1]\n",
    "            accre_df['NODE2'][index] = broken_node1[0] + accre_df['NODE2'][index][:-1]\n",
    "            \n",
    "        else:\n",
    "            broken_node1[1] = broken_node1[1][:-1]\n",
    "            two_num_split = broken_node1[1].split('-')\n",
    "            accre_df['NODE1'][index] = broken_node1[0] + two_num_split[0]\n",
    "            accre_df['NODE2'][index] = broken_node1[0] + two_num_split[1]    "
   ]
  },
  {
   "cell_type": "code",
   "execution_count": null,
   "metadata": {},
   "outputs": [],
   "source": [
    "#This fixes formatting for when NODES = 3, press 'esc'-'o' to hide pink warning\n",
    "for index, row in accre_df.NODE1.iteritems():          \n",
    "    if accre_df.NODES[index] == 3:\n",
    "        \n",
    "        broken_node1 = row.split('[')\n",
    "\n",
    "        if accre_df['NODE3'][index] == accre_df['NODE3'][index]:\n",
    "            accre_df['NODE1'][index] = broken_node1[0] + broken_node1[1]\n",
    "            accre_df['NODE2'][index] = broken_node1[0] + accre_df['NODE2'][index]\n",
    "            accre_df['NODE3'][index] = broken_node1[0] + accre_df['NODE3'][index][:-1]\n",
    "                                                             \n",
    "        elif accre_df['NODE2'][index] != accre_df['NODE2'][index]:\n",
    "            broken_node1[1] = broken_node1[1][:-1]\n",
    "            two_num_split = broken_node1[1].split('-')\n",
    "            accre_df['NODE1'][index] = broken_node1[0] + two_num_split[0]\n",
    "            accre_df['NODE2'][index] = broken_node1[0] + str(int(two_num_split[0]) + 1)\n",
    "            accre_df['NODE3'][index] = broken_node1[0] + two_num_split[1]\n",
    "            \n",
    "        elif len(broken_node1[1]) < 5:\n",
    "            two_num_split = accre_df['NODE2'][index].split('-')\n",
    "            accre_df['NODE1'][index] = broken_node1[0] + broken_node1[1]\n",
    "            accre_df['NODE2'][index] = broken_node1[0] + two_num_split[0]\n",
    "            accre_df['NODE3'][index] = broken_node1[0] + two_num_split[1][:-1]\n",
    "            \n",
    "        else:\n",
    "            two_num_split = broken_node1[1].split('-')\n",
    "            accre_df['NODE1'][index] = broken_node1[0] + two_num_split[0]\n",
    "            accre_df['NODE3'][index] = broken_node1[0] + accre_df['NODE2'][index][:-1]\n",
    "            accre_df['NODE2'][index] = broken_node1[0] + two_num_split[1]"
   ]
  },
  {
   "cell_type": "code",
   "execution_count": null,
   "metadata": {},
   "outputs": [],
   "source": [
    "#cleaning without for loop\n",
    "#clean_accre_df['REQTIME'] = clean_accre_df['REQTIME'].replace('-',':',regex=True)"
   ]
  },
  {
   "cell_type": "code",
   "execution_count": null,
   "metadata": {},
   "outputs": [],
   "source": [
    "accre_df['NODES'] = accre_df['NODES'].astype(int)\n",
    "accre_df['CPUS'] = accre_df['CPUS'].astype(int)"
   ]
  },
  {
   "cell_type": "code",
   "execution_count": null,
   "metadata": {},
   "outputs": [],
   "source": [
    "exactly_2_nodes = accre_df[accre_df['NODES'] == 2]\n",
    "exactly_2_nodes.shape"
   ]
  },
  {
   "cell_type": "code",
   "execution_count": null,
   "metadata": {},
   "outputs": [],
   "source": [
    "# concatinating all nodes into the NODE1 column\n",
    "for index, row in accre_df.NODE1.iteritems():\n",
    "    node1 = str(accre_df['NODE1'][index])\n",
    "    node2 = str(accre_df['NODE2'][index])\n",
    "    node3 = str(accre_df['NODE3'][index])\n",
    "    node4 = str(accre_df['NODE4'][index])\n",
    "    \n",
    "    accre_df['NODE2'][index] = ''\n",
    "    accre_df['NODE3'][index] = ''\n",
    "    accre_df['NODE4'][index] = ''\n",
    "    \n",
    "    node_row = node1 + ',' + node2 + ',' + node3 + ',' + node4\n",
    "    node_row = node_row.split('nan')[0]\n",
    "    accre_df['NODE1'][index] = node_row[:-1]\n",
    "    \n",
    "#dropping columns NODE2-NODE4\n",
    "accre_df = accre_df.drop(['NODE2', 'NODE3', 'NODE4'], axis=1)"
   ]
  },
  {
   "cell_type": "code",
   "execution_count": null,
   "metadata": {},
   "outputs": [],
   "source": [
    "accre_df[accre_df['NODELIST'] == 'ngcn1314']"
   ]
  },
  {
   "cell_type": "code",
   "execution_count": null,
   "metadata": {},
   "outputs": [],
   "source": [
    "accre_df[accre_df['NODES'] == 3]"
   ]
  }
 ],
 "metadata": {
  "kernelspec": {
   "display_name": "Python 3",
   "language": "python",
   "name": "python3"
  },
  "language_info": {
   "codemirror_mode": {
    "name": "ipython",
    "version": 3
   },
   "file_extension": ".py",
   "mimetype": "text/x-python",
   "name": "python",
   "nbconvert_exporter": "python",
   "pygments_lexer": "ipython3",
   "version": "3.7.6"
  }
 },
 "nbformat": 4,
 "nbformat_minor": 4
}
